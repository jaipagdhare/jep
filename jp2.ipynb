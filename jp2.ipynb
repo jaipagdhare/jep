{
 "cells": [
  {
   "cell_type": "code",
   "execution_count": null,
   "id": "bb62e19b",
   "metadata": {},
   "outputs": [],
   "source": [
    "import cv2\n",
    "import numpy as np"
   ]
  },
  {
   "cell_type": "code",
   "execution_count": 65,
   "id": "6b61293e",
   "metadata": {},
   "outputs": [],
   "source": [
    "image = cv2.imread('eren.jpg')\n",
    "pioc = cv2.imshow(\"Image\", image)\n",
    "cv2.waitKey(0)\n",
    "cv2.destroyAllWindows()"
   ]
  },
  {
   "cell_type": "code",
   "execution_count": 12,
   "id": "ec42bf43",
   "metadata": {},
   "outputs": [
    {
     "name": "stdout",
     "output_type": "stream",
     "text": [
      "(376, 800, 3)\n"
     ]
    }
   ],
   "source": [
    "print(image.shape)"
   ]
  },
  {
   "cell_type": "code",
   "execution_count": 13,
   "id": "23abaf6f",
   "metadata": {},
   "outputs": [
    {
     "name": "stdout",
     "output_type": "stream",
     "text": [
      "uint8\n"
     ]
    }
   ],
   "source": [
    "print(image.dtype)"
   ]
  },
  {
   "cell_type": "code",
   "execution_count": 14,
   "id": "54b482d1",
   "metadata": {},
   "outputs": [
    {
     "name": "stdout",
     "output_type": "stream",
     "text": [
      "902400\n"
     ]
    }
   ],
   "source": [
    "print(image.size)"
   ]
  },
  {
   "cell_type": "code",
   "execution_count": 94,
   "id": "049028cf",
   "metadata": {},
   "outputs": [
    {
     "data": {
      "text/plain": [
       "-1"
      ]
     },
     "execution_count": 94,
     "metadata": {},
     "output_type": "execute_result"
    }
   ],
   "source": [
    "b,g,r = cv2.split(image)\n",
    "p = cv2.merge([b,g,r])\n",
    "cv2.imshow(\"e\",p)\n",
    "cv2.waitKey(0)"
   ]
  },
  {
   "cell_type": "code",
   "execution_count": 27,
   "id": "3150b236",
   "metadata": {},
   "outputs": [
    {
     "name": "stdout",
     "output_type": "stream",
     "text": [
      "[[105  18  19 ...  55  55  58]\n",
      " [ 20  42  90 ...  65  66  66]\n",
      " [ 19  90 127 ...  64  63  62]\n",
      " ...\n",
      " [ 24  22  18 ...  78  64  78]\n",
      " [ 18  13   8 ...  65  79  62]\n",
      " [ 11   8   7 ...  46  87  72]] [[104  14  14 ...  43  43  46]\n",
      " [ 14  35  83 ...  49  50  50]\n",
      " [ 12  83 123 ...  45  44  43]\n",
      " ...\n",
      " [ 18  16  15 ...  69  55  67]\n",
      " [ 17  12   7 ...  56  69  50]\n",
      " [ 16  12   9 ...  40  77  60]] [[90  0  0 ...  9  9 12]\n",
      " [ 3 18 50 ... 12 14 14]\n",
      " [ 0 56 75 ...  7  6  5]\n",
      " ...\n",
      " [77 73 65 ... 89 75 87]\n",
      " [59 54 51 ... 76 86 68]\n",
      " [41 41 44 ... 59 94 78]]\n"
     ]
    }
   ],
   "source": [
    "print(b,g,r)"
   ]
  },
  {
   "cell_type": "code",
   "execution_count": 95,
   "id": "e0b05ffd",
   "metadata": {},
   "outputs": [
    {
     "data": {
      "text/plain": [
       "-1"
      ]
     },
     "execution_count": 95,
     "metadata": {},
     "output_type": "execute_result"
    }
   ],
   "source": [
    "zeros = np.zeros(b.shape,np.uint8)\n",
    "b\n",
    "cv2.imshow(\"Model Blue Image\", cv2.merge([b,zeros,zeros])) \n",
    "  \n",
    "# Displaying Green channel image \n",
    "# Green colour is highlighted the most \n",
    "cv2.imshow(\"Model Green Image\", cv2.merge([zeros,g,zeros])) \n",
    "  \n",
    "# Displaying Red channel image \n",
    "# Red colour is highlighted the most \n",
    "cv2.imshow(\"Model Red Image\", cv2.merge([zeros,zeros,r]))\n",
    "  \n",
    "# Waits for user to press any key \n",
    "cv2.waitKey(0)\n"
   ]
  },
  {
   "cell_type": "code",
   "execution_count": 96,
   "id": "b00ed511",
   "metadata": {},
   "outputs": [
    {
     "data": {
      "text/plain": [
       "<function destroyAllWindows>"
      ]
     },
     "execution_count": 96,
     "metadata": {},
     "output_type": "execute_result"
    }
   ],
   "source": [
    "gray = cv2.cvtColor(image, cv2.COLOR_BGR2GRAY)\n",
    "cv2.imshow(\"g\",gray)\n",
    "cv2.waitKey(0)\n",
    "cv2.destroyAllWindows"
   ]
  },
  {
   "cell_type": "code",
   "execution_count": 97,
   "id": "5a55f582",
   "metadata": {},
   "outputs": [
    {
     "data": {
      "text/plain": [
       "-1"
      ]
     },
     "execution_count": 97,
     "metadata": {},
     "output_type": "execute_result"
    }
   ],
   "source": [
    "\n",
    "crop_img = image[0:222, 0:100]\n",
    "cv2.imshow(\"cropped\", crop_img)\n",
    "cv2.waitKey(0)"
   ]
  },
  {
   "cell_type": "code",
   "execution_count": 113,
   "id": "1e4a0cc8",
   "metadata": {},
   "outputs": [
    {
     "data": {
      "text/plain": [
       "-1"
      ]
     },
     "execution_count": 113,
     "metadata": {},
     "output_type": "execute_result"
    }
   ],
   "source": [
    "yuji = cv2.imread(\"choso.jpg\")\n",
    "cv2.imshow(\"e\",yuji)\n",
    "cv2.waitKey(0)"
   ]
  },
  {
   "cell_type": "code",
   "execution_count": 111,
   "id": "cd0f2ca1",
   "metadata": {},
   "outputs": [
    {
     "data": {
      "text/plain": [
       "-1"
      ]
     },
     "execution_count": 111,
     "metadata": {},
     "output_type": "execute_result"
    }
   ],
   "source": [
    "a = cv2.imread(\"yuji.jpg\")\n",
    "cv2.imshow(\"e\",a)\n",
    "cv2.waitKey(0)"
   ]
  },
  {
   "cell_type": "code",
   "execution_count": 88,
   "id": "1ea6b3b1",
   "metadata": {},
   "outputs": [
    {
     "data": {
      "text/plain": [
       "(450, 800, 3)"
      ]
     },
     "execution_count": 88,
     "metadata": {},
     "output_type": "execute_result"
    }
   ],
   "source": [
    "yuji.shape"
   ]
  },
  {
   "cell_type": "code",
   "execution_count": 89,
   "id": "7bd1ec08",
   "metadata": {},
   "outputs": [
    {
     "data": {
      "text/plain": [
       "(450, 800, 3)"
      ]
     },
     "execution_count": 89,
     "metadata": {},
     "output_type": "execute_result"
    }
   ],
   "source": [
    "a.shape"
   ]
  },
  {
   "cell_type": "code",
   "execution_count": 114,
   "id": "f00d1372",
   "metadata": {},
   "outputs": [
    {
     "data": {
      "text/plain": [
       "-1"
      ]
     },
     "execution_count": 114,
     "metadata": {},
     "output_type": "execute_result"
    }
   ],
   "source": [
    "pp = cv2.add(a,yuji)\n",
    "cv2.imshow(\"cropped\", pp)\n",
    "cv2.waitKey(0)"
   ]
  },
  {
   "cell_type": "code",
   "execution_count": 108,
   "id": "4b87c0b5",
   "metadata": {},
   "outputs": [
    {
     "data": {
      "text/plain": [
       "-1"
      ]
     },
     "execution_count": 108,
     "metadata": {},
     "output_type": "execute_result"
    }
   ],
   "source": [
    "subtracted = cv2.subtract(a, yuji)\n",
    "cv2.imshow(\"cropped\", subtracted)\n",
    "cv2.waitKey(0)"
   ]
  },
  {
   "cell_type": "code",
   "execution_count": 115,
   "id": "cfac6053",
   "metadata": {},
   "outputs": [
    {
     "data": {
      "text/plain": [
       "-1"
      ]
     },
     "execution_count": 115,
     "metadata": {},
     "output_type": "execute_result"
    }
   ],
   "source": [
    "d = cv2.bitwise_and(a,yuji)\n",
    "cv2.imshow(\"cropped\", d)\n",
    "cv2.waitKey(0)"
   ]
  },
  {
   "cell_type": "code",
   "execution_count": 104,
   "id": "eae651d3",
   "metadata": {},
   "outputs": [
    {
     "data": {
      "text/plain": [
       "-1"
      ]
     },
     "execution_count": 104,
     "metadata": {},
     "output_type": "execute_result"
    }
   ],
   "source": [
    "f = cv2.bitwise_not(a,yuji)\n",
    "cv2.imshow(\"cropped\", f)\n",
    "cv2.waitKey(0)"
   ]
  },
  {
   "cell_type": "code",
   "execution_count": 123,
   "id": "4e198f5c",
   "metadata": {},
   "outputs": [
    {
     "data": {
      "text/plain": [
       "(376, 800, 3)"
      ]
     },
     "execution_count": 123,
     "metadata": {},
     "output_type": "execute_result"
    }
   ],
   "source": [
    "image.shape"
   ]
  },
  {
   "cell_type": "code",
   "execution_count": 124,
   "id": "97b62e03",
   "metadata": {},
   "outputs": [
    {
     "data": {
      "text/plain": [
       "(450, 800, 3)"
      ]
     },
     "execution_count": 124,
     "metadata": {},
     "output_type": "execute_result"
    }
   ],
   "source": [
    "yuji.shape"
   ]
  },
  {
   "cell_type": "code",
   "execution_count": 125,
   "id": "b22f2b58",
   "metadata": {},
   "outputs": [
    {
     "data": {
      "text/plain": [
       "(376, 800, 3)"
      ]
     },
     "execution_count": 125,
     "metadata": {},
     "output_type": "execute_result"
    }
   ],
   "source": [
    "ede = cv2.resize(yuji , (800,376))\n",
    "ede.shape"
   ]
  },
  {
   "cell_type": "code",
   "execution_count": 128,
   "id": "be9bfa88",
   "metadata": {},
   "outputs": [
    {
     "data": {
      "text/plain": [
       "-1"
      ]
     },
     "execution_count": 128,
     "metadata": {},
     "output_type": "execute_result"
    }
   ],
   "source": [
    "fff = cv2.add(image,ede)\n",
    "cv2.imshow(\"cropped\", fff)\n",
    "cv2.waitKey(0)"
   ]
  },
  {
   "cell_type": "code",
   "execution_count": null,
   "id": "bd71591c",
   "metadata": {},
   "outputs": [],
   "source": []
  }
 ],
 "metadata": {
  "kernelspec": {
   "display_name": "Python 3 (ipykernel)",
   "language": "python",
   "name": "python3"
  },
  "language_info": {
   "codemirror_mode": {
    "name": "ipython",
    "version": 3
   },
   "file_extension": ".py",
   "mimetype": "text/x-python",
   "name": "python",
   "nbconvert_exporter": "python",
   "pygments_lexer": "ipython3",
   "version": "3.9.12"
  }
 },
 "nbformat": 4,
 "nbformat_minor": 5
}
